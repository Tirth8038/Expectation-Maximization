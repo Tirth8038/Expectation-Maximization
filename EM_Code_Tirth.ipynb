{
 "cells": [
  {
   "cell_type": "markdown",
   "id": "b7af26fb",
   "metadata": {},
   "source": [
    "# Expectation-Maximization-Algorithm"
   ]
  },
  {
   "cell_type": "markdown",
   "id": "e8a529fb",
   "metadata": {},
   "source": [
    "**Author: Tirth Shaileshbhai Patel  (tirthsha@usc.edu)**"
   ]
  },
  {
   "cell_type": "code",
   "execution_count": 1,
   "id": "03a1e1af",
   "metadata": {},
   "outputs": [],
   "source": [
    "#Importing Necessary Libraries \n",
    "import requests\n",
    "import random\n",
    "import numpy as np\n",
    "import json\n",
    "import seaborn as sns\n",
    "import pandas as pd\n",
    "import matplotlib.pyplot as plt\n",
    "import warnings\n",
    "warnings.filterwarnings(\"ignore\")"
   ]
  },
  {
   "cell_type": "markdown",
   "id": "d8303f7c",
   "metadata": {},
   "source": [
    "# Task-1\n",
    "\n",
    "Create python code that can access the Heads/Tails api\n",
    "\n",
    "-The heads/tails api returns 20 “coin flips” (1s represent Heads and 0s represent tails). For each api call, it will return 20 “coin flips” from the same coin, but it will randomly select from two different coins with each have different probability of heads.\n",
    "\n",
    "-The API is located at the following address: https://24zl01u3ff.execute-api.us-west-1.amazonaws.com/beta\n",
    "\n",
    "-Parse the returned json object for the list of 20 1s or 0s in the “body” section of the json"
   ]
  },
  {
   "cell_type": "markdown",
   "id": "5bc49795",
   "metadata": {},
   "source": [
    "**Data Collection**"
   ]
  },
  {
   "cell_type": "code",
   "execution_count": 2,
   "id": "498a01a2",
   "metadata": {},
   "outputs": [
    {
     "data": {
      "text/plain": [
       "{'statusCode': 200,\n",
       " 'body': '[1, 0, 1, 0, 0, 0, 0, 0, 0, 1, 1, 0, 0, 1, 1, 1, 0, 0, 0, 0]'}"
      ]
     },
     "execution_count": 2,
     "metadata": {},
     "output_type": "execute_result"
    }
   ],
   "source": [
    "#Fetching the data from API using Python GET Request\n",
    "response = requests.get(\"https://24zl01u3ff.execute-api.us-west-1.amazonaws.com/beta\")\n",
    "\n",
    "#Loading the response of the API in JSON Format\n",
    "draw= json.loads(response.text)\n",
    "draw"
   ]
  },
  {
   "cell_type": "code",
   "execution_count": 3,
   "id": "08ba0a49",
   "metadata": {},
   "outputs": [
    {
     "data": {
      "text/plain": [
       "[1, 0, 1, 0, 0, 0, 0, 0, 0, 1, 1, 0, 0, 1, 1, 1, 0, 0, 0, 0]"
      ]
     },
     "execution_count": 3,
     "metadata": {},
     "output_type": "execute_result"
    }
   ],
   "source": [
    "#Filtering out Head/Tail(Body) from each Draw\n",
    "toss=eval(draw['body'])     #Converting a string type response(Body) into List of Toss\n",
    "toss"
   ]
  },
  {
   "cell_type": "markdown",
   "id": "26a9cf48",
   "metadata": {},
   "source": [
    "# Task-2\n",
    "Write python code that creates an EM Algorithm that will take a set of 30 coin flip draws (a draw is the returned 20 flips from the api) and uses the series of 30 draws to estimate the theta parameters for the two coins (theta is the likelihood of heads which are 1s in this example)."
   ]
  },
  {
   "cell_type": "code",
   "execution_count": 4,
   "id": "2095d21c",
   "metadata": {},
   "outputs": [],
   "source": [
    "#Flipping the Coin 30 times\n",
    "\n",
    "#Storing the data of 30 coil flip draws in a list\n",
    "total_draws=[]\n",
    "\n",
    "#Repeating the same process of Task1 30 times\n",
    "for i in range(30):\n",
    "    response = requests.get(\"https://24zl01u3ff.execute-api.us-west-1.amazonaws.com/beta\")\n",
    "    draw= json.loads(response.text)\n",
    "    toss=eval(draw['body'])\n",
    "    total_draws.append(toss)"
   ]
  },
  {
   "cell_type": "code",
   "execution_count": 5,
   "id": "dc65271b",
   "metadata": {},
   "outputs": [
    {
     "data": {
      "text/plain": [
       "[[0, 0, 0, 1, 0, 0, 1, 1, 0, 1, 1, 0, 0, 0, 1, 1, 1, 0, 0, 1],\n",
       " [1, 1, 1, 1, 1, 0, 1, 1, 1, 1, 0, 1, 0, 1, 1, 0, 1, 0, 1, 1],\n",
       " [1, 0, 1, 1, 0, 1, 0, 0, 0, 0, 0, 1, 0, 1, 0, 0, 0, 1, 0, 0],\n",
       " [0, 1, 1, 0, 1, 0, 0, 0, 0, 1, 1, 0, 0, 0, 1, 0, 0, 1, 0, 0],\n",
       " [0, 0, 0, 1, 1, 1, 0, 0, 0, 0, 1, 0, 1, 1, 0, 1, 0, 1, 1, 1],\n",
       " [0, 0, 0, 0, 0, 0, 0, 0, 0, 1, 0, 0, 0, 0, 0, 0, 0, 0, 0, 0],\n",
       " [1, 0, 0, 0, 0, 1, 0, 0, 0, 1, 0, 0, 1, 0, 0, 1, 1, 0, 0, 0],\n",
       " [1, 1, 0, 1, 1, 0, 1, 0, 1, 1, 0, 1, 1, 0, 1, 1, 1, 1, 1, 1],\n",
       " [0, 0, 0, 0, 0, 0, 0, 0, 0, 1, 0, 0, 1, 1, 0, 0, 0, 0, 0, 0],\n",
       " [0, 0, 0, 0, 0, 0, 0, 0, 0, 0, 0, 1, 0, 0, 0, 0, 0, 0, 0, 0],\n",
       " [1, 1, 1, 1, 0, 1, 0, 0, 0, 1, 1, 0, 1, 1, 1, 1, 1, 1, 1, 0],\n",
       " [0, 1, 1, 0, 1, 0, 1, 1, 0, 1, 1, 1, 1, 1, 1, 1, 1, 1, 1, 1],\n",
       " [1, 1, 1, 1, 1, 1, 0, 1, 1, 0, 1, 1, 1, 1, 1, 1, 1, 1, 1, 0],\n",
       " [1, 0, 1, 0, 1, 1, 0, 1, 0, 0, 0, 1, 1, 1, 1, 1, 1, 1, 0, 1],\n",
       " [1, 0, 1, 1, 1, 1, 1, 1, 1, 1, 1, 1, 0, 1, 1, 0, 0, 1, 1, 1],\n",
       " [0, 0, 1, 0, 1, 0, 0, 1, 0, 0, 1, 0, 0, 0, 0, 1, 0, 0, 0, 1],\n",
       " [0, 0, 1, 1, 0, 0, 0, 0, 0, 0, 0, 1, 0, 0, 1, 0, 0, 1, 0, 0],\n",
       " [1, 0, 0, 0, 1, 0, 0, 0, 0, 0, 0, 0, 1, 0, 0, 0, 1, 0, 1, 0],\n",
       " [0, 1, 1, 1, 1, 0, 0, 0, 1, 0, 0, 0, 0, 1, 1, 0, 0, 1, 0, 0],\n",
       " [1, 0, 1, 1, 1, 1, 0, 1, 1, 1, 1, 0, 1, 1, 1, 1, 0, 1, 1, 0],\n",
       " [1, 0, 0, 1, 1, 1, 0, 0, 1, 0, 1, 1, 1, 1, 1, 1, 0, 1, 1, 1],\n",
       " [1, 0, 1, 1, 1, 1, 1, 1, 0, 1, 1, 0, 1, 1, 0, 1, 1, 1, 1, 1],\n",
       " [0, 1, 1, 1, 1, 1, 0, 1, 0, 0, 1, 0, 0, 1, 1, 1, 0, 1, 0, 1],\n",
       " [0, 1, 0, 0, 0, 0, 0, 1, 0, 0, 0, 0, 1, 0, 0, 0, 0, 0, 0, 1],\n",
       " [0, 1, 0, 0, 1, 0, 1, 1, 1, 1, 0, 1, 1, 1, 1, 1, 0, 0, 0, 0],\n",
       " [1, 1, 1, 1, 1, 1, 1, 0, 1, 1, 0, 1, 1, 1, 1, 1, 1, 1, 1, 0],\n",
       " [1, 1, 0, 1, 1, 1, 0, 0, 1, 0, 0, 0, 1, 0, 1, 0, 1, 1, 1, 0],\n",
       " [1, 1, 0, 0, 1, 0, 1, 1, 1, 0, 1, 1, 1, 1, 1, 0, 0, 1, 1, 1],\n",
       " [1, 1, 1, 1, 0, 0, 0, 1, 0, 0, 0, 1, 1, 0, 1, 1, 0, 1, 1, 0],\n",
       " [1, 1, 1, 1, 1, 1, 1, 1, 0, 1, 0, 1, 1, 0, 1, 1, 1, 1, 0, 0]]"
      ]
     },
     "execution_count": 5,
     "metadata": {},
     "output_type": "execute_result"
    }
   ],
   "source": [
    "#Draw result of 30 coins\n",
    "total_draws"
   ]
  },
  {
   "cell_type": "code",
   "execution_count": 6,
   "id": "312875e6",
   "metadata": {},
   "outputs": [
    {
     "data": {
      "text/plain": [
       "30"
      ]
     },
     "execution_count": 6,
     "metadata": {},
     "output_type": "execute_result"
    }
   ],
   "source": [
    "#Length of Total_Draws\n",
    "len(total_draws)"
   ]
  },
  {
   "cell_type": "code",
   "execution_count": 7,
   "id": "4926c8f8",
   "metadata": {},
   "outputs": [],
   "source": [
    "#Number of Heads in each draw\n",
    "\n",
    "#Creating a list to store count of Heads and Tails in each draw\n",
    "head_count=[]\n",
    "tail_count=[]\n",
    "for i in range(len(total_draws)):\n",
    "    #Head Count\n",
    "    head_count.append(total_draws[i].count(1))\n",
    "    #Tail Count\n",
    "    tail_count.append(total_draws[i].count(0))"
   ]
  },
  {
   "cell_type": "code",
   "execution_count": 8,
   "id": "d3cdec1b",
   "metadata": {},
   "outputs": [
    {
     "name": "stdout",
     "output_type": "stream",
     "text": [
      "[9, 15, 7, 7, 10, 1, 6, 15, 3, 1, 14, 16, 17, 13, 16, 6, 5, 5, 8, 15, 14, 16, 12, 4, 11, 17, 11, 14, 11, 15]\n"
     ]
    }
   ],
   "source": [
    "#Count of Heads in each draw\n",
    "print(head_count)"
   ]
  },
  {
   "cell_type": "code",
   "execution_count": 9,
   "id": "866ce8c6",
   "metadata": {},
   "outputs": [
    {
     "data": {
      "text/plain": [
       "<BarContainer object of 30 artists>"
      ]
     },
     "execution_count": 9,
     "metadata": {},
     "output_type": "execute_result"
    },
    {
     "data": {
      "image/png": "[encoded data removed]",
      "text/plain": [
       "<Figure size 1008x576 with 1 Axes>"
      ]
     },
     "metadata": {
      "needs_background": "light"
     },
     "output_type": "display_data"
    }
   ],
   "source": [
    "#Visualizing the Frequency of Head Count in 30 Draws of Coin\n",
    "plt.figure(figsize=(14,8))\n",
    "#Axis Labels\n",
    "plt.xlabel(\"Number of Draws of Coin\",fontsize=14)\n",
    "plt.ylabel(\"Heads Count in each draw\",fontsize=14)\n",
    "#Title of Graph\n",
    "plt.title(\"Frequency of Head Count\",fontsize=16,fontweight='bold')\n",
    "a=[i for i in range(1,31)]\n",
    "plt.bar(a, head_count)"
   ]
  },
  {
   "cell_type": "code",
   "execution_count": 10,
   "id": "ef0f0247",
   "metadata": {},
   "outputs": [
    {
     "name": "stdout",
     "output_type": "stream",
     "text": [
      "[11, 5, 13, 13, 10, 19, 14, 5, 17, 19, 6, 4, 3, 7, 4, 14, 15, 15, 12, 5, 6, 4, 8, 16, 9, 3, 9, 6, 9, 5]\n"
     ]
    }
   ],
   "source": [
    "#Count of Tail in each draw\n",
    "print(tail_count)"
   ]
  },
  {
   "cell_type": "code",
   "execution_count": 11,
   "id": "61ebd72a",
   "metadata": {},
   "outputs": [
    {
     "data": {
      "text/plain": [
       "<BarContainer object of 30 artists>"
      ]
     },
     "execution_count": 11,
     "metadata": {},
     "output_type": "execute_result"
    },
    {
     "data": {
      "image/png": "[encoded data removed]",
      "text/plain": [
       "<Figure size 1008x576 with 1 Axes>"
      ]
     },
     "metadata": {
      "needs_background": "light"
     },
     "output_type": "display_data"
    }
   ],
   "source": [
    "#Visualizing the Frequency of Head Count in 30 Draws of Coin\n",
    "plt.figure(figsize=(14,8))\n",
    "#Axis Labels\n",
    "plt.xlabel(\"Number of Draws of Coin\",fontsize=14)\n",
    "plt.ylabel(\"Tail Count in each draw\",fontsize=14)\n",
    "#Title of Graph\n",
    "plt.title(\"Frequency of Tail Count\",fontsize=16,fontweight='bold')\n",
    "a=[i for i in range(1,31)]\n",
    "plt.bar(a, tail_count, color='orange')"
   ]
  },
  {
   "cell_type": "code",
   "execution_count": 12,
   "id": "83d1dd3e",
   "metadata": {},
   "outputs": [
    {
     "data": {
      "image/png": "[encoded data removed]",
      "text/plain": [
       "<Figure size 1296x576 with 1 Axes>"
      ]
     },
     "metadata": {
      "needs_background": "light"
     },
     "output_type": "display_data"
    }
   ],
   "source": [
    "#Visualization of Heads and Tails Count using Multiple Bar Graphs\n",
    "plt.figure(figsize=(18,8))\n",
    "\n",
    "#Number of Draws\n",
    "a=[i for i in range(1,31)]\n",
    "x = np.arange(len(a))\n",
    "\n",
    "H = plt.bar(x - 0.2, head_count,0.4, label='Heads')\n",
    "T = plt.bar(x + 0.2, tail_count,0.4, label='Tails')\n",
    "\n",
    "# Add some text for labels, title and custom x-axis tick labels, etc.\n",
    "plt.xticks(x, a)\n",
    "#Axis Labels\n",
    "plt.xlabel(\"Number of Draws of Coin\",fontsize=14)\n",
    "plt.ylabel(\"Heads Count in each draw\",fontsize=14)\n",
    "#Title of Graph\n",
    "plt.title(\"Frequency of Head Count\",fontsize=16,fontweight='bold')\n",
    "plt.legend()\n",
    "plt.show()"
   ]
  },
  {
   "cell_type": "markdown",
   "id": "0a10d9dc",
   "metadata": {},
   "source": [
    "# Implementing EM Algorithm\n",
    "\n",
    "Here,we do not know which coin is flipped. Hence, starting with a guess for the coin biases to estimate which coin was chosen in each trial and come up with an estimate for the expected number of heads and tails."
   ]
  },
  {
   "cell_type": "markdown",
   "id": "d29287d3",
   "metadata": {},
   "source": [
    "# E-Step\n",
    "Creating the function for Estimating the Probabilities of Unknown coins A and B \n"
   ]
  },
  {
   "cell_type": "code",
   "execution_count": 13,
   "id": "0241590e",
   "metadata": {},
   "outputs": [],
   "source": [
    "#Expectation Step\n",
    "def Expectation(draws, tA, tB):\n",
    "\n",
    "    #Initializing the Probability of Head & Tails\n",
    "    Head_A, Tail_A, Head_B, Tail_B=0,0,0,0\n",
    "    for i in draws:\n",
    "        \n",
    "        #Calculating the Likelihood of Coin\n",
    "        #Count of Heads in each draw\n",
    "        total_heads=i.count(1)\n",
    "        #Total Flips\n",
    "        total_flips= len(i)\n",
    "        \n",
    "        #Calculating the likelihood of Coin A:\n",
    "        likelihood_A= pow(tA, total_heads)*pow(1-tA, total_flips-total_heads)\n",
    "        #Calculating the likelihood of Coin B:\n",
    "        likelihood_B= pow(tB, total_heads)*pow(1-tB, total_flips-total_heads)\n",
    "        \n",
    "        total= (likelihood_A + likelihood_B)\n",
    "        A_Prob, B_Prob = (likelihood_A / total), (likelihood_B / total)\n",
    "        \n",
    "        #Calculating the probability of Head and Tails in Coin A and Coin B\n",
    "        \n",
    "        Head_A += A_Prob * i.count(1)\n",
    "        Head_B += B_Prob * i.count(1)\n",
    "        Tail_A += A_Prob * i.count(0)    \n",
    "        Tail_B += B_Prob * i.count(0) \n",
    "    return Head_A, Tail_A, Head_B, Tail_B"
   ]
  },
  {
   "cell_type": "markdown",
   "id": "44d55a34",
   "metadata": {},
   "source": [
    "# M-Step\n",
    "Creating the function for Maximization to produce the values of Theta for maximizing the expected number of Head/Tail in every draw\n"
   ]
  },
  {
   "cell_type": "code",
   "execution_count": 14,
   "id": "b94cffa6",
   "metadata": {},
   "outputs": [],
   "source": [
    "#Maximization Step\n",
    "def Maximization(Head_A, Tail_A, Head_B, Tail_B):\n",
    "    A_total_prob= (Head_A + Tail_A)\n",
    "    B_total_prob= (Head_B + Tail_B)\n",
    "    \n",
    "    #Updating the Maximized value of Theta for Head Outcome Only\n",
    "    tA = Head_A / A_total_prob\n",
    "    tB = Head_B / B_total_prob\n",
    "    \n",
    "    #Theta A(tA) and Theta B(tb) represents probability of Heads from Respective Coin (A or B)\n",
    "    return tA, tB"
   ]
  },
  {
   "cell_type": "code",
   "execution_count": 15,
   "id": "1f24a5e6",
   "metadata": {},
   "outputs": [],
   "source": [
    "#Expectation Maximization Step\n",
    "def Expectation_Max(draws, tA=None, tB=None):\n",
    "    \n",
    "    #Random Initial Guess for Theta Value\n",
    "    tA, tB = tA or random.random(), tB or random.random()\n",
    "    #Parameter for Coin A and B\n",
    "    thetas = [[tA, tB]]\n",
    "    \n",
    "    #Iterate till Convergence at Optimal Values\n",
    "    Flag=0\n",
    "    \n",
    "    #Checking if the Theta Values are same for last 2 iterations\n",
    "    while(Flag!=2):\n",
    "        \n",
    "        #Calling Expectation and Maximization Methods at each Iteration\n",
    "        Head_A, Tail_A, Head_B, Tail_B = Expectation(draws, tA, tB)\n",
    "        tA, tB = Maximization(Head_A, Tail_A, Head_B, Tail_B)\n",
    "        if(thetas[-1][0]==tA and thetas[-1][1]==tB):\n",
    "            Flag+=1\n",
    "        else:\n",
    "            Flag=0\n",
    "        thetas.append((tA,tB))\n",
    "    #Output all Theta Values at each Iteration and Optimal Converged Theta Values for Coin A & B.\n",
    "    return thetas, (tA,tB)"
   ]
  },
  {
   "cell_type": "code",
   "execution_count": 16,
   "id": "a6a3a476",
   "metadata": {},
   "outputs": [],
   "source": [
    "#Calling Expectation-Maximization Algorithm for Getting Theta and its Optimal Value\n",
    "Thetas, Optimal = Expectation_Max(total_draws)"
   ]
  },
  {
   "cell_type": "code",
   "execution_count": 17,
   "id": "8c85707b",
   "metadata": {},
   "outputs": [
    {
     "data": {
      "text/plain": [
       "[[0.8581175291275945, 0.005345902224552113],\n",
       " (0.6149516346514482, 0.1595095341512582),\n",
       " (0.6626813949275397, 0.2196921513819095),\n",
       " (0.6866947726489259, 0.24544504315316867),\n",
       " (0.6952100680382336, 0.2568309607796035),\n",
       " (0.6985377503934709, 0.2618535404750838),\n",
       " (0.6999452557232122, 0.2640815291043976),\n",
       " (0.7005624434318004, 0.26507656972609933),\n",
       " (0.7008371986269439, 0.26552285052898433),\n",
       " (0.7009603035592051, 0.2657234459438473),\n",
       " (0.7010156170445259, 0.26581370357732154),\n",
       " (0.7010405016804011, 0.265854334301198),\n",
       " (0.7010517031583886, 0.26587262876587864),\n",
       " (0.7010567466214024, 0.2658808668766148),\n",
       " (0.7010590176969809, 0.26588457671378746),\n",
       " (0.7010600404163821, 0.2658862473841687),\n",
       " (0.7010605009818572, 0.26588699975269314),\n",
       " (0.7010607083923659, 0.2658873385751829),\n",
       " (0.7010608017978031, 0.2658874911611645),\n",
       " (0.7010608438621806, 0.2658875598770899),\n",
       " (0.7010608628055485, 0.2658875908227909),\n",
       " (0.7010608713365515, 0.2658876047589574),\n",
       " (0.7010608751784252, 0.2658876110350068),\n",
       " (0.7010608769085847, 0.26588761386137943),\n",
       " (0.7010608776877492, 0.2658876151342154),\n",
       " (0.7010608780386401, 0.26588761570742775),\n",
       " (0.7010608781966613, 0.26588761596556976),\n",
       " (0.7010608782678249, 0.265887616081822),\n",
       " (0.701060878299873, 0.26588761613417544),\n",
       " (0.7010608783143055, 0.2658876161577523),\n",
       " (0.7010608783208052, 0.26588761616837),\n",
       " (0.7010608783237322, 0.2658876161731516),\n",
       " (0.7010608783250503, 0.2658876161753049),\n",
       " (0.701060878325644, 0.2658876161762746),\n",
       " (0.7010608783259114, 0.2658876161767115),\n",
       " (0.7010608783260319, 0.26588761617690815),\n",
       " (0.701060878326086, 0.26588761617699674),\n",
       " (0.7010608783261105, 0.2658876161770366),\n",
       " (0.7010608783261214, 0.26588761617705464),\n",
       " (0.7010608783261264, 0.2658876161770627),\n",
       " (0.7010608783261286, 0.26588761617706635),\n",
       " (0.7010608783261296, 0.26588761617706796),\n",
       " (0.7010608783261301, 0.2658876161770687),\n",
       " (0.7010608783261302, 0.26588761617706913),\n",
       " (0.7010608783261304, 0.2658876161770693),\n",
       " (0.7010608783261305, 0.2658876161770694),\n",
       " (0.7010608783261304, 0.26588761617706946),\n",
       " (0.7010608783261304, 0.26588761617706946),\n",
       " (0.7010608783261304, 0.26588761617706946)]"
      ]
     },
     "execution_count": 17,
     "metadata": {},
     "output_type": "execute_result"
    }
   ],
   "source": [
    "#Value of Theta for Coin A and Coin B at each Iteration respectively\n",
    "Thetas"
   ]
  },
  {
   "cell_type": "code",
   "execution_count": 18,
   "id": "0e7e097d",
   "metadata": {},
   "outputs": [
    {
     "name": "stdout",
     "output_type": "stream",
     "text": [
      "Number of Iteration taken to reach Optimal Value: 48\n"
     ]
    }
   ],
   "source": [
    "#Number of Iteration taken to reach Optimal Value\n",
    "Converge_Steps= len(Thetas)-1\n",
    "print(\"Number of Iteration taken to reach Optimal Value:\",Converge_Steps)"
   ]
  },
  {
   "cell_type": "code",
   "execution_count": 19,
   "id": "5a78fa20",
   "metadata": {},
   "outputs": [
    {
     "name": "stdout",
     "output_type": "stream",
     "text": [
      "Converged value of Theta for Coin A and Coin B: (0.7010608783261304, 0.26588761617706946)\n"
     ]
    }
   ],
   "source": [
    "#Converged value of Theta for Coin A and Coin B\n",
    "print(\"Converged value of Theta for Coin A and Coin B:\",Optimal)"
   ]
  },
  {
   "cell_type": "code",
   "execution_count": 20,
   "id": "16fb198a",
   "metadata": {},
   "outputs": [],
   "source": [
    "#Coin A: Probability of Heads in each Iteration\n",
    "#List for storing all probabilities of Heads in Coin A\n",
    "CA=[]\n",
    "for i in range(len(Thetas)):\n",
    "    CA.append(Thetas[i][0])"
   ]
  },
  {
   "cell_type": "code",
   "execution_count": 21,
   "id": "e5dfd7d2",
   "metadata": {},
   "outputs": [],
   "source": [
    "#Coin B: Probability of Heads in each Iteration\n",
    "#List for storing all probabilities of Heads in Coin B\n",
    "CB=[]\n",
    "for i in range(len(Thetas)):\n",
    "    CB.append(Thetas[i][1])"
   ]
  },
  {
   "cell_type": "code",
   "execution_count": 22,
   "id": "3b19b1c0",
   "metadata": {},
   "outputs": [
    {
     "data": {
      "image/png": "[encoded data removed]",
      "text/plain": [
       "<Figure size 1008x576 with 1 Axes>"
      ]
     },
     "metadata": {
      "needs_background": "light"
     },
     "output_type": "display_data"
    }
   ],
   "source": [
    "#Plotting Convergence of Theta Values at each Iterations for Coin A and Coin B\n",
    "plt.figure(figsize=(14,8))\n",
    "plt.plot(CA, 'o-b')\n",
    "plt.plot(CB, 'o-r')\n",
    "#Axis Labels\n",
    "plt.xlabel(\"Number of Iterations\",fontsize=14)\n",
    "plt.ylabel(\"Theta Parameter\",fontsize=14)\n",
    "#Title of Graph\n",
    "plt.title(\"Convergence of Theta Values at each Iterations\",fontsize=16,fontweight='bold')\n",
    "#Legend for Coin A and Coin B\n",
    "plt.legend(['Coin A', 'Coin B'])\n",
    "plt.show()\n"
   ]
  },
  {
   "cell_type": "markdown",
   "id": "427cd485",
   "metadata": {},
   "source": [
    "# Task-3\n",
    "**Create a short writeup explaining the development of your algorithm**"
   ]
  },
  {
   "cell_type": "markdown",
   "id": "776a89ac",
   "metadata": {},
   "source": [
    "Expectation Maximization is an iterative algorithm for calculating the maximum likelihood estimates(MLE) or Maximum a posteriori probability (MAP) of parameters. It helps to estimate the missing values in the dataset given the general form of probability distribution associated with these latent variables and then using that data to update the values of the parameters in the Maximization step.\n",
    "\n",
    "In this task, we do not know either Coin A or Coin B is flipped for each set of 30 flips.Hence, In this scenario, the coin is not observed, and could be considered a hidden or latent variable. \n",
    "\n",
    "**Initialization Step:** We can initialize random biases for the selection of the Coin which can give the estimate of which coin was chosen in each trial.\n",
    "\n",
    "**Expectation Step:** Given the estimation of coin selected, we can determine what is the possibility of getting heads or tails in the outcome using the concept of Conditional Probability(Bayes Theorem). One approach could be to see which coin bias better matches the flips and assign all flips to that coin. For example: For a flip, if we see 11110011001110001111 and our current assumed biases for Coin A and Coin B are 0.4 and 0.7 respectively, we just assume that it is coin B with 13 H and 7 T. But the problem arise when the cases are not obvious like if the Coin has equal chances of getting H or T.\n",
    "\n",
    "Hence, we estimate the probability that each coin is the true coin given the flips we see in the trial, and use that to assign H and T counts to each coin. As a final result, it gives the probability of H and T for Coin A and Coin B respectively for each flips.\n",
    "\n",
    "**Maximization Step:** Given the values for the latent variables we computed in the Expectation step, we estimate new values for thetas for both Coins that maximize a variant of the likelihood function. The Theta values will be the probability of H from Coin A and Coin B out of the total probability of both H and T from Coin A and Coin B.\n",
    "\n",
    "**Convergence Step:** After getting the values of Thetas for both Coins, we need to optimize them using number of iterations till they converge to the global minima. Here, we check whether the Thetas are converging or not, if yes, then stop otherwise repeat the “Expectation” step and “Maximization” step until the convergence occurs.\n",
    "\n",
    "For this, I am using dynamic number of iterations by comparing the values of Thetas with Theta values of previous 2 iterations. If it remains constant, I will break the loop and store the last Theta values as Optimal Values."
   ]
  },
  {
   "cell_type": "markdown",
   "id": "8dbabb84",
   "metadata": {},
   "source": [
    "**What is your estimate of the thetas for the two coins?**"
   ]
  },
  {
   "cell_type": "markdown",
   "id": "28300e5b",
   "metadata": {},
   "source": [
    "Here, for every API call, the data will be varying. Moreover, the values of theta are initialized randomly. For this task, the Converged value of Theta for **Coin A is 0.7010608783261304** and **Coin B is 0.26588761617706946**\n"
   ]
  },
  {
   "cell_type": "markdown",
   "id": "81b165d5",
   "metadata": {},
   "source": [
    "**What choices did you have to make in writing your code?**"
   ]
  },
  {
   "cell_type": "markdown",
   "id": "7beb74ff",
   "metadata": {},
   "source": [
    "For the Implementation of Expectation Maximization, we need to iterate till the thetas converge to the optimal value. As we can see from the graph,for most of the draws it converges withing 10 Steps. Here, I could have taken Static Maximum Iterations value as 10 but to make it more optimal I made the iteration dynamic using the concept of Early Stopping in Neural Networks where we check for last 2 or 3 iterations if the values of theta remains constant, we will stop the iteration at that step.\n",
    "\n",
    "As, the data was changing in every API call, we can't decide any optimal values for Maximum Iterations. Hence, to make it a robust algorithm, I implemented the concept of Early Stopping for the convergence of the thetas which can work with any data."
   ]
  },
  {
   "cell_type": "markdown",
   "id": "1338592c",
   "metadata": {},
   "source": [
    "**What options were available and Why did you choose the option you implemented?**"
   ]
  },
  {
   "cell_type": "markdown",
   "id": "a7beee1f",
   "metadata": {},
   "source": [
    "First of all, There are certain libraries available for implementing EM algorithm such as GMM(\"from sklearn.mixture import GaussianMixture\"), but I rather chose to implement the algorithm from scratch.\n",
    "\n",
    "Secondly, For calculating the Likelihood of the Head/Tail for given Coin, I preferred Likelihood rather than Log Likelihood as this was Binomial Distribution(H or T) problem. In the case of Multinomial Distribution, multiplying several probabilities could sometimes lead to Non-Convex Solution. Hence, to convert it into Gaussian Distribution we can apply Log function to the Likelihood."
   ]
  }
 ],
 "metadata": {
  "kernelspec": {
   "display_name": "Python 3 (ipykernel)",
   "language": "python",
   "name": "python3"
  },
  "language_info": {
   "codemirror_mode": {
    "name": "ipython",
    "version": 3
   },
   "file_extension": ".py",
   "mimetype": "text/x-python",
   "name": "python",
   "nbconvert_exporter": "python",
   "pygments_lexer": "ipython3",
   "version": "3.9.7"
  }
 },
 "nbformat": 4,
 "nbformat_minor": 5
}
